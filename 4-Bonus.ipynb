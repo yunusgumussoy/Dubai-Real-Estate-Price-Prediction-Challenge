{
 "cells": [
  {
   "cell_type": "code",
   "execution_count": null,
   "id": "bb8d762c-594d-4c52-83b6-0157b64fa696",
   "metadata": {},
   "outputs": [],
   "source": [
    "import pandas as pd\n",
    "import numpy as np\n",
    "import seaborn as sns\n",
    "import matplotlib.pyplot as plt"
   ]
  },
  {
   "cell_type": "code",
   "execution_count": null,
   "id": "b0fc750e-b47e-45a6-83ec-98417ff1d312",
   "metadata": {},
   "outputs": [],
   "source": [
    "# Load Rents data\n",
    "Rents = pd.read_csv('RentsTransactions/rents.csv', delimiter=';', low_memory=False)"
   ]
  },
  {
   "cell_type": "code",
   "execution_count": null,
   "id": "bd101573-5872-4b11-8e62-dd6cefeca35e",
   "metadata": {},
   "outputs": [],
   "source": [
    "# Load Transactions Data\n",
    "Transactions = pd.read_csv('RentsTransactions/transactions.csv', delimiter=';', low_memory=False)"
   ]
  },
  {
   "cell_type": "code",
   "execution_count": null,
   "id": "055b666b-1076-4f66-962f-bbfdc6eee4f9",
   "metadata": {},
   "outputs": [],
   "source": [
    "Transactions.info()"
   ]
  },
  {
   "cell_type": "code",
   "execution_count": null,
   "id": "7622edb3-ff34-4921-9acb-fde72f12e3f8",
   "metadata": {},
   "outputs": [],
   "source": [
    "Transactions['Transaction Type'].unique()"
   ]
  },
  {
   "cell_type": "code",
   "execution_count": null,
   "id": "c2430820-e04f-4873-9e83-2e37865a5ff4",
   "metadata": {},
   "outputs": [],
   "source": [
    "Transactions = Transactions[Transactions['Transaction Type'] == 'Sales']"
   ]
  },
  {
   "cell_type": "code",
   "execution_count": null,
   "id": "de973755-413c-4f26-8735-f3e4f4bb95c4",
   "metadata": {},
   "outputs": [],
   "source": [
    "Transactions.info()"
   ]
  },
  {
   "cell_type": "code",
   "execution_count": null,
   "id": "47e22f8a-af92-444b-9d48-8235eaf45694",
   "metadata": {},
   "outputs": [],
   "source": [
    "Rents['Property Size (sq.m)'] = pd.to_numeric(Rents['Property Size (sq.m)'], errors='coerce')"
   ]
  },
  {
   "cell_type": "code",
   "execution_count": null,
   "id": "182d4ca4-c4a6-4898-94fb-4eea87232170",
   "metadata": {},
   "outputs": [],
   "source": [
    "Rents['Parking'] = pd.to_numeric(Rents['Parking'], errors='coerce')"
   ]
  },
  {
   "cell_type": "code",
   "execution_count": null,
   "id": "b2937edc-095b-4dfc-bd6f-be210263351a",
   "metadata": {},
   "outputs": [],
   "source": [
    "Transactions['Property Size (sq.m)'] = pd.to_numeric(Transactions['Property Size (sq.m)'], errors='coerce')"
   ]
  },
  {
   "cell_type": "code",
   "execution_count": null,
   "id": "5311d754-d4f4-4937-bb0d-934b7359b446",
   "metadata": {},
   "outputs": [],
   "source": [
    "Transactions['Parking'] = pd.to_numeric(Transactions['Parking'], errors='coerce')"
   ]
  },
  {
   "cell_type": "code",
   "execution_count": null,
   "id": "ba4e4d35-89c1-42be-b600-0ce2d787eb63",
   "metadata": {},
   "outputs": [],
   "source": [
    "# Shared columns with high similarity to include in the merge\n",
    "merge_keys = [\n",
    "    'Property ID', 'Is Free Hold?', 'Nearest Metro', \n",
    "    'Nearest Mall', 'Nearest Landmark', \n",
    "    'Usage', 'Area', 'Property Type', 'Property Sub Type', 'Property Size (sq.m)', 'Parking', 'Master Project', 'Project'\n",
    "]\n",
    "\n",
    "# Perform the merge using these keys\n",
    "merged_data = pd.merge(\n",
    "    Rents, Transactions,\n",
    "    on=merge_keys,  # Merge on the identified keys\n",
    "    how='outer',     # Retain all rows from Rents\n",
    "    suffixes=('', '_Transactions')  # Add suffix for Transactions columns\n",
    ")\n",
    "\n",
    "# Check the merged data\n",
    "print(\"Merged Data Information:\")\n",
    "print(merged_data.info())\n",
    "\n",
    "print(\"\\nPreview of Merged Data:\")\n",
    "print(merged_data.head())\n"
   ]
  },
  {
   "cell_type": "code",
   "execution_count": null,
   "id": "64b85342-8e5d-4098-b4b4-dee13f04d887",
   "metadata": {},
   "outputs": [],
   "source": [
    "# Convert numeric columns stored as strings\n",
    "merged_data['Annual Amount'] = pd.to_numeric(merged_data['Annual Amount'], errors='coerce')\n",
    "merged_data['Contract Amount'] = pd.to_numeric(merged_data['Contract Amount'], errors='coerce')\n",
    "merged_data['Amount'] = pd.to_numeric(merged_data['Amount'], errors='coerce')"
   ]
  },
  {
   "cell_type": "code",
   "execution_count": null,
   "id": "7fc3cf6e-c507-41c6-9c1d-fd53cb5124c9",
   "metadata": {},
   "outputs": [],
   "source": [
    "# Calculate price per square meter\n",
    "merged_data['Price_per_sqm'] = merged_data['Amount'] / merged_data['Property Size (sq.m)']\n"
   ]
  },
  {
   "cell_type": "code",
   "execution_count": null,
   "id": "6decf2e7-99e3-4827-be91-7137363acb3a",
   "metadata": {},
   "outputs": [],
   "source": [
    "# Compare with Market Trends\n",
    "\n",
    "# Group by Property Type and Location to calculate median price per square meter\n",
    "median_price_per_sqm = merged_data.groupby(['Property Type', 'Area'])['Price_per_sqm'].median().reset_index()\n",
    "\n",
    "# Merge the median prices back to the main dataframe\n",
    "merged_data = merged_data.merge(median_price_per_sqm, on=['Property Type', 'Area'], suffixes=('', '_median'))\n",
    "\n",
    "# Filter properties where the price per square meter is below the median (considering a threshold)\n",
    "threshold = 0.8  # Adjust this threshold to define \"significantly lower\"\n",
    "merged_data['Below_Median'] = merged_data['Price_per_sqm'] < (merged_data['Price_per_sqm_median'] * threshold)\n"
   ]
  },
  {
   "cell_type": "code",
   "execution_count": null,
   "id": "3cdb502d-f05a-4f57-a49a-7a1e620564fa",
   "metadata": {},
   "outputs": [],
   "source": [
    "# Calculate rental yield\n",
    "merged_data['Rental_Yield'] = (merged_data['Annual Amount'] / merged_data['Amount']) * 100\n"
   ]
  },
  {
   "cell_type": "code",
   "execution_count": null,
   "id": "7fcdc20f-7710-4fe0-8e79-f8f612f396ff",
   "metadata": {},
   "outputs": [],
   "source": [
    "# Calculate average rental yield for the dataset\n",
    "average_rental_yield = merged_data['Rental_Yield'].mean()\n",
    "\n",
    "# Filter properties with higher than average rental yield\n",
    "merged_data['Above_Avg_Yield'] = merged_data['Rental_Yield'] > average_rental_yield\n"
   ]
  },
  {
   "cell_type": "code",
   "execution_count": null,
   "id": "1ec71d29-d059-4b07-9369-82b21be89a08",
   "metadata": {},
   "outputs": [],
   "source": [
    "# Filter properties meeting both criteria\n",
    "investment_properties = merged_data[(merged_data['Below_Median']) & (merged_data['Above_Avg_Yield'])]\n"
   ]
  },
  {
   "cell_type": "code",
   "execution_count": null,
   "id": "1d5bb9f5-022d-439a-b921-02c503a9685c",
   "metadata": {},
   "outputs": [],
   "source": [
    "investment_properties.info()"
   ]
  },
  {
   "cell_type": "code",
   "execution_count": null,
   "id": "ddbe8791-ad74-497c-add6-0b25875f77ea",
   "metadata": {},
   "outputs": [],
   "source": [
    "investment_properties.head(20)"
   ]
  },
  {
   "cell_type": "code",
   "execution_count": null,
   "id": "eec2dcad-cd8a-411e-8f49-3d6dccfbaa25",
   "metadata": {},
   "outputs": [],
   "source": [
    "investment_properties['Area'].unique()"
   ]
  },
  {
   "cell_type": "code",
   "execution_count": null,
   "id": "83182f35-15b6-449f-a057-5fdefe5a19f2",
   "metadata": {},
   "outputs": [],
   "source": [
    "investment_properties['Property Size (sq.m)'].unique()"
   ]
  },
  {
   "cell_type": "code",
   "execution_count": null,
   "id": "bec64072-9a50-412d-8d04-bf442ce1a403",
   "metadata": {},
   "outputs": [],
   "source": []
  }
 ],
 "metadata": {
  "kernelspec": {
   "display_name": "Python 3 (ipykernel)",
   "language": "python",
   "name": "python3"
  },
  "language_info": {
   "codemirror_mode": {
    "name": "ipython",
    "version": 3
   },
   "file_extension": ".py",
   "mimetype": "text/x-python",
   "name": "python",
   "nbconvert_exporter": "python",
   "pygments_lexer": "ipython3",
   "version": "3.12.4"
  }
 },
 "nbformat": 4,
 "nbformat_minor": 5
}
