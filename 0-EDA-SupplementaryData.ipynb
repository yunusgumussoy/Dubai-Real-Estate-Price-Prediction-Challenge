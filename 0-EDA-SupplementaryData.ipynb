{
 "cells": [
  {
   "cell_type": "code",
   "execution_count": null,
   "id": "eebea332-d585-415e-b507-8a4192425cc3",
   "metadata": {},
   "outputs": [],
   "source": [
    "import pandas as pd\n",
    "import numpy as np"
   ]
  },
  {
   "cell_type": "code",
   "execution_count": null,
   "id": "b97edac8-ee8b-40c4-a36f-bc35c00ba262",
   "metadata": {},
   "outputs": [],
   "source": [
    "# Load data\n",
    "Consumer_Price_Index_Annually = pd.read_csv('Consumer Price Index/Consumer_Price_Index_Annually.csv')"
   ]
  },
  {
   "cell_type": "code",
   "execution_count": null,
   "id": "3cdf3adb-7e59-4197-9e29-44512e57e8c9",
   "metadata": {},
   "outputs": [],
   "source": [
    "Consumer_Price_Index_Annually.head(10)"
   ]
  },
  {
   "cell_type": "code",
   "execution_count": null,
   "id": "c5d61a03-1e41-4f53-8bfd-ec6da590a596",
   "metadata": {},
   "outputs": [],
   "source": [
    "Consumer_Price_Index_Annually['DATAFLOW'].unique()"
   ]
  },
  {
   "cell_type": "code",
   "execution_count": null,
   "id": "b97e44cd-62f8-4ed6-b4cf-dd1960afebbb",
   "metadata": {},
   "outputs": [],
   "source": [
    "Consumer_Price_Index_Annually['MEASURE'].unique()"
   ]
  },
  {
   "cell_type": "code",
   "execution_count": null,
   "id": "10f09ce7-097f-46e4-a509-19a7d113802c",
   "metadata": {},
   "outputs": [],
   "source": [
    "Consumer_Price_Index_Annually['TIME_PERIOD'].unique()"
   ]
  },
  {
   "cell_type": "code",
   "execution_count": null,
   "id": "2bb8b7a9-2ebb-4b1f-9866-004bac508ec7",
   "metadata": {},
   "outputs": [],
   "source": [
    "Consumer_Price_Index_Annually.info()"
   ]
  },
  {
   "cell_type": "code",
   "execution_count": null,
   "id": "aa69a113-b457-427e-aa69-ebaa43d899aa",
   "metadata": {},
   "outputs": [],
   "source": [
    "# Sort by TIME_PERIOD\n",
    "Consumer_Price_Index_Annually = Consumer_Price_Index_Annually.sort_values(by=\"TIME_PERIOD\", ascending=True)"
   ]
  },
  {
   "cell_type": "code",
   "execution_count": null,
   "id": "f2951009-5dc1-4649-88f0-cac5ceee194c",
   "metadata": {},
   "outputs": [],
   "source": [
    "Consumer_Price_Index_Annually.head(10)"
   ]
  },
  {
   "cell_type": "code",
   "execution_count": null,
   "id": "7be91737-80f2-4065-8e39-0d2ed5c10638",
   "metadata": {},
   "outputs": [],
   "source": [
    "# Extract relevant columns\n",
    "extracted_data = Consumer_Price_Index_Annually[['MEASURE', 'TIME_PERIOD', 'OBS_VALUE', 'CPI_DIV']]\n",
    "\n",
    "# Display the first few rows of the extracted dataset\n",
    "print(\"Extracted Data:\")\n",
    "print(extracted_data.head())"
   ]
  },
  {
   "cell_type": "code",
   "execution_count": null,
   "id": "1075f3ce-aae8-48b3-b3a6-3e7647aee625",
   "metadata": {},
   "outputs": [],
   "source": [
    "\n",
    "\n",
    "\n",
    "# Basic analysis\n",
    "# 1. Group data by 'MEASURE' and calculate the average 'OBS_VALUE' over time\n",
    "average_cpi = extracted_data.groupby(['MEASURE', 'TIME_PERIOD'])['OBS_VALUE'].mean().reset_index()\n",
    "\n",
    "# 2. Display the trends over time for each measure\n",
    "print(\"\\nAverage CPI Values by Measure and Time:\")\n",
    "print(average_cpi)\n",
    "\n",
    "# Optional: Plot trends for CPI measures\n",
    "import matplotlib.pyplot as plt\n",
    "import seaborn as sns\n",
    "\n",
    "plt.figure(figsize=(10, 6))\n",
    "sns.lineplot(data=average_cpi, x='TIME_PERIOD', y='OBS_VALUE', hue='MEASURE', marker='o')\n",
    "plt.title('CPI Trends by Measure Over Time')\n",
    "plt.xlabel('Year')\n",
    "plt.ylabel('CPI Value')\n",
    "plt.legend(title='Measure')\n",
    "plt.grid(True)\n",
    "plt.show()\n"
   ]
  },
  {
   "cell_type": "code",
   "execution_count": null,
   "id": "f0d72b5a-2f0e-4b15-b664-a6ebe285daea",
   "metadata": {},
   "outputs": [],
   "source": []
  },
  {
   "cell_type": "code",
   "execution_count": null,
   "id": "4f4d406f-6d3f-4f5c-84c2-11935a033a55",
   "metadata": {},
   "outputs": [],
   "source": []
  },
  {
   "cell_type": "code",
   "execution_count": null,
   "id": "670b784f-b35c-4a53-a6a8-7253b86bb225",
   "metadata": {},
   "outputs": [],
   "source": [
    "#########################################################################"
   ]
  },
  {
   "cell_type": "code",
   "execution_count": null,
   "id": "422f28cd-a334-4c61-8da0-42356fadb83b",
   "metadata": {},
   "outputs": [],
   "source": [
    "# Load data\n",
    "Consumer_Price_Index_Monthly = pd.read_csv('Consumer Price Index/Consumer_Price_Index_Monthly.csv')"
   ]
  },
  {
   "cell_type": "code",
   "execution_count": null,
   "id": "42d9506d-10fc-41fc-aa5c-9b4be8c56edc",
   "metadata": {},
   "outputs": [],
   "source": [
    "Consumer_Price_Index_Monthly.head(10)"
   ]
  },
  {
   "cell_type": "code",
   "execution_count": null,
   "id": "a51e1ff3-74f3-460a-b203-f1969c72043c",
   "metadata": {},
   "outputs": [],
   "source": [
    "# Sort by TIME_PERIOD\n",
    "Consumer_Price_Index_Monthly = Consumer_Price_Index_Monthly.sort_values(by=\"TIME_PERIOD\", ascending=True)"
   ]
  },
  {
   "cell_type": "code",
   "execution_count": null,
   "id": "7a7985b4-1b9d-430e-b8d2-6f692cb63b49",
   "metadata": {},
   "outputs": [],
   "source": [
    "Consumer_Price_Index_Monthly.head()"
   ]
  },
  {
   "cell_type": "code",
   "execution_count": null,
   "id": "8937a6e9-4b48-4243-9814-f81bb04973b9",
   "metadata": {},
   "outputs": [],
   "source": [
    "Consumer_Price_Index_Monthly[\"MEASURE\"].unique()"
   ]
  },
  {
   "cell_type": "code",
   "execution_count": null,
   "id": "252a410e-88a3-4fe3-8f11-245f8def2b25",
   "metadata": {},
   "outputs": [],
   "source": [
    "\n",
    "\n",
    "# Extract relevant columns\n",
    "extracted_monthly_data = Consumer_Price_Index_Monthly[['MEASURE', 'TIME_PERIOD', 'OBS_VALUE', 'CPI_DIV']]\n",
    "\n",
    "# Convert TIME_PERIOD to a datetime format for proper time-series handling\n",
    "extracted_monthly_data['TIME_PERIOD'] = pd.to_datetime(extracted_monthly_data['TIME_PERIOD'])\n",
    "\n",
    "# Display the first few rows of the extracted dataset\n",
    "print(\"Extracted Monthly Data:\")\n",
    "print(extracted_monthly_data.head())\n",
    "\n",
    "# Group by 'MEASURE' and 'TIME_PERIOD' for analysis\n",
    "monthly_trends = extracted_monthly_data.groupby(['MEASURE', 'TIME_PERIOD'])['OBS_VALUE'].mean().reset_index()\n",
    "\n",
    "# Plot monthly trends for each measure\n",
    "plt.figure(figsize=(12, 6))\n",
    "sns.lineplot(data=monthly_trends, x='TIME_PERIOD', y='OBS_VALUE', hue='MEASURE', marker='o')\n",
    "plt.title('Monthly CPI Trends by Measure')\n",
    "plt.xlabel('Time Period')\n",
    "plt.ylabel('CPI Value')\n",
    "plt.xticks(rotation=45)\n",
    "plt.legend(title='Measure')\n",
    "plt.grid(True)\n",
    "plt.tight_layout()\n",
    "plt.show()\n"
   ]
  },
  {
   "cell_type": "code",
   "execution_count": null,
   "id": "eea2bd11-c309-44e3-92fa-dd518b6812f7",
   "metadata": {},
   "outputs": [],
   "source": []
  },
  {
   "cell_type": "code",
   "execution_count": null,
   "id": "9f820c04-6d14-429f-a157-bcfe50d12627",
   "metadata": {},
   "outputs": [],
   "source": []
  },
  {
   "cell_type": "code",
   "execution_count": null,
   "id": "c792ad7f-c200-4b9f-9db3-c0066ff270db",
   "metadata": {},
   "outputs": [],
   "source": []
  },
  {
   "cell_type": "code",
   "execution_count": null,
   "id": "dcb63495-4058-47ea-a995-5818d197fb49",
   "metadata": {},
   "outputs": [],
   "source": [
    "#########################################################################"
   ]
  },
  {
   "cell_type": "code",
   "execution_count": null,
   "id": "aca4badb-168a-4c84-aba9-619f3a541e3e",
   "metadata": {},
   "outputs": [],
   "source": [
    "# Load data\n",
    "Consumer_Price_Index_Quarterly = pd.read_csv('Consumer Price Index/Consumer_Price_Index_Quarterly.csv')"
   ]
  },
  {
   "cell_type": "code",
   "execution_count": null,
   "id": "1b79d907-9ea3-4682-a5a9-daba7f6eb298",
   "metadata": {},
   "outputs": [],
   "source": [
    "Consumer_Price_Index_Quarterly.head(10)"
   ]
  },
  {
   "cell_type": "code",
   "execution_count": null,
   "id": "3a0a5ccd-dffa-4d63-93ae-9b9d4ade599e",
   "metadata": {},
   "outputs": [],
   "source": [
    "# Sort by TIME_PERIOD\n",
    "Consumer_Price_Index_Quarterly = Consumer_Price_Index_Quarterly.sort_values(by=\"TIME_PERIOD\", ascending=True)"
   ]
  },
  {
   "cell_type": "code",
   "execution_count": null,
   "id": "5d8e2345-d28b-4498-8617-d53afecd06cc",
   "metadata": {},
   "outputs": [],
   "source": [
    "Consumer_Price_Index_Quarterly.head(10)"
   ]
  },
  {
   "cell_type": "code",
   "execution_count": null,
   "id": "303bba18-ed21-43f3-99b5-638446018e3b",
   "metadata": {},
   "outputs": [],
   "source": [
    "Consumer_Price_Index_Quarterly.info()"
   ]
  },
  {
   "cell_type": "code",
   "execution_count": null,
   "id": "a70316c1-d1d0-45e2-ba68-7054b4fff632",
   "metadata": {},
   "outputs": [],
   "source": [
    "\n",
    "\n",
    "# Extract relevant columns\n",
    "extracted_quarterly_data = Consumer_Price_Index_Quarterly[['MEASURE', 'TIME_PERIOD', 'OBS_VALUE', 'CPI_DIV']]\n",
    "\n",
    "# Convert TIME_PERIOD to a datetime-like format for easier handling\n",
    "extracted_quarterly_data['TIME_PERIOD'] = pd.PeriodIndex(extracted_quarterly_data['TIME_PERIOD'], freq='Q').to_timestamp()\n",
    "\n",
    "# Display the first few rows of the extracted dataset\n",
    "print(\"Extracted Quarterly Data:\")\n",
    "print(extracted_quarterly_data.head())\n",
    "\n",
    "# Group by 'MEASURE' and 'TIME_PERIOD' for analysis\n",
    "quarterly_trends = extracted_quarterly_data.groupby(['MEASURE', 'TIME_PERIOD'])['OBS_VALUE'].mean().reset_index()\n",
    "\n",
    "# Plot quarterly trends for each measure\n",
    "plt.figure(figsize=(12, 6))\n",
    "sns.lineplot(data=quarterly_trends, x='TIME_PERIOD', y='OBS_VALUE', hue='MEASURE', marker='o')\n",
    "plt.title('Quarterly CPI Trends by Measure')\n",
    "plt.xlabel('Time Period')\n",
    "plt.ylabel('CPI Value (%)')\n",
    "plt.xticks(rotation=45)\n",
    "plt.legend(title='Measure')\n",
    "plt.grid(True)\n",
    "plt.tight_layout()\n",
    "plt.show()\n"
   ]
  },
  {
   "cell_type": "code",
   "execution_count": null,
   "id": "790577ef-4b9b-4cec-a281-af9091ade7bb",
   "metadata": {},
   "outputs": [],
   "source": []
  },
  {
   "cell_type": "code",
   "execution_count": null,
   "id": "ec75e635-d40f-4b57-bb3a-2eb9f8b566fd",
   "metadata": {},
   "outputs": [],
   "source": [
    "#########################################################################"
   ]
  },
  {
   "cell_type": "code",
   "execution_count": null,
   "id": "36b2a558-7348-4d8c-9e74-e72dc1af5b83",
   "metadata": {},
   "outputs": [],
   "source": [
    "# Load data\n",
    "Currency_Strength = pd.read_csv('Currency Strength/AED-USD.csv')"
   ]
  },
  {
   "cell_type": "code",
   "execution_count": null,
   "id": "84253adf-c9fb-4018-8b03-baa84b300b95",
   "metadata": {},
   "outputs": [],
   "source": [
    "Currency_Strength.head()"
   ]
  },
  {
   "cell_type": "code",
   "execution_count": null,
   "id": "cd144c0f-9336-49ec-8b62-6cad94a78ee8",
   "metadata": {},
   "outputs": [],
   "source": [
    "# Sort by Date\n",
    "Currency_Strength = Currency_Strength.sort_values(by=\"Date\", ascending=True)"
   ]
  },
  {
   "cell_type": "code",
   "execution_count": null,
   "id": "b247b6c2-ab09-4e6b-a05e-381bb574254f",
   "metadata": {},
   "outputs": [],
   "source": [
    "Currency_Strength.head()"
   ]
  },
  {
   "cell_type": "code",
   "execution_count": null,
   "id": "462c3727-5ce1-41df-8298-605de74470ec",
   "metadata": {},
   "outputs": [],
   "source": [
    "\n",
    "import seaborn as sns\n",
    "\n",
    "\n",
    "# Convert Date to datetime format\n",
    "Currency_Strength['Date'] = pd.to_datetime(Currency_Strength['Date'])\n",
    "\n",
    "# Extract relevant columns\n",
    "extracted_currency_data = Currency_Strength[['Date', 'Close', 'Return']]\n",
    "\n",
    "# Display the first few rows of the extracted data\n",
    "print(\"Extracted AED-USD Currency Data:\")\n",
    "print(extracted_currency_data.head())\n",
    "\n",
    "# Plot the AED-USD Close prices over time\n",
    "plt.figure(figsize=(12, 6))\n",
    "plt.plot(extracted_currency_data['Date'], extracted_currency_data['Close'], label='Close Price', color='blue')\n",
    "plt.title('AED-USD Exchange Rate Over Time')\n",
    "plt.xlabel('Date')\n",
    "plt.ylabel('Exchange Rate (AED to USD)')\n",
    "plt.legend()\n",
    "plt.grid(True)\n",
    "plt.tight_layout()\n",
    "plt.show()\n",
    "\n",
    "# Analyze daily returns\n",
    "# Remove NaN returns\n",
    "returns_data = extracted_currency_data.dropna(subset=['Return'])\n",
    "\n",
    "# Histogram of returns\n",
    "plt.figure(figsize=(10, 6))\n",
    "sns.histplot(returns_data['Return'], bins=50, kde=True, color='green')\n",
    "plt.title('Histogram of AED-USD Daily Returns')\n",
    "plt.xlabel('Daily Return (%)')\n",
    "plt.ylabel('Frequency')\n",
    "plt.grid(True)\n",
    "plt.tight_layout()\n",
    "plt.show()\n",
    "\n",
    "# Summary statistics for returns\n",
    "returns_summary = returns_data['Return'].describe()\n",
    "print(\"\\nSummary Statistics for AED-USD Daily Returns:\")\n",
    "print(returns_summary)\n"
   ]
  },
  {
   "cell_type": "code",
   "execution_count": null,
   "id": "e8deb205-2a7b-402a-a12c-d7f2f2a3a125",
   "metadata": {},
   "outputs": [],
   "source": [
    "# Extract year from the Date column\n",
    "extracted_currency_data['Year'] = extracted_currency_data['Date'].dt.year\n",
    "\n",
    "# Calculate annual statistics\n",
    "annual_returns = extracted_currency_data.groupby('Year')['Return'].agg(['mean', 'median', 'sum', 'std']).reset_index()\n",
    "annual_returns.rename(columns={'mean': 'Average_Return', 'median': 'Median_Return', 'sum': 'Cumulative_Return', 'std': 'Volatility'}, inplace=True)\n",
    "\n",
    "# Display annual returns summary\n",
    "print(\"Annual Returns Summary:\")\n",
    "print(annual_returns)\n",
    "\n",
    "# Plot average and cumulative returns over the years\n",
    "plt.figure(figsize=(14, 6))\n",
    "sns.lineplot(data=annual_returns, x='Year', y='Average_Return', label='Average Return', marker='o', color='blue')\n",
    "sns.lineplot(data=annual_returns, x='Year', y='Cumulative_Return', label='Cumulative Return', marker='o', color='green')\n",
    "plt.axhline(0, linestyle='--', color='gray', linewidth=1)\n",
    "plt.title('AED-USD Annual Average and Cumulative Returns')\n",
    "plt.xlabel('Year')\n",
    "plt.ylabel('Return (%)')\n",
    "plt.legend()\n",
    "plt.grid(True)\n",
    "plt.tight_layout()\n",
    "plt.show()\n",
    "\n",
    "# Plot volatility (standard deviation of daily returns)\n",
    "plt.figure(figsize=(14, 6))\n",
    "sns.barplot(data=annual_returns, x='Year', y='Volatility', color='orange')\n",
    "plt.title('Annual Volatility of AED-USD Daily Returns')\n",
    "plt.xlabel('Year')\n",
    "plt.ylabel('Volatility (Standard Deviation)')\n",
    "plt.xticks(rotation=45)\n",
    "plt.grid(True, axis='y')\n",
    "plt.tight_layout()\n",
    "plt.show()\n"
   ]
  },
  {
   "cell_type": "code",
   "execution_count": null,
   "id": "0f659d8c-49e0-472d-8cf7-f8791968f40d",
   "metadata": {},
   "outputs": [],
   "source": []
  },
  {
   "cell_type": "code",
   "execution_count": null,
   "id": "7fa43984-9225-4426-8af9-e2ee7303bce9",
   "metadata": {},
   "outputs": [],
   "source": [
    "#########################################################################"
   ]
  },
  {
   "cell_type": "code",
   "execution_count": null,
   "id": "4990ba34-1fbe-4a9e-b876-f077fcbde8f0",
   "metadata": {},
   "outputs": [],
   "source": [
    "# Load data\n",
    "GDP_Quarterly_Constant_Prices = pd.read_csv('Gross Domestic Product/GDP_Quarterly_Constant_Prices.csv')"
   ]
  },
  {
   "cell_type": "code",
   "execution_count": null,
   "id": "a4ac6889-bd35-4f76-9e73-6ad6bb6f83ba",
   "metadata": {
    "scrolled": true
   },
   "outputs": [],
   "source": [
    "GDP_Quarterly_Constant_Prices.head(20)"
   ]
  },
  {
   "cell_type": "code",
   "execution_count": null,
   "id": "f79381d6-0c94-414f-834c-a7210ab29ad3",
   "metadata": {},
   "outputs": [],
   "source": [
    "GDP_Quarterly_Constant_Prices.info()"
   ]
  },
  {
   "cell_type": "code",
   "execution_count": null,
   "id": "b163f3e3-cd19-40c3-9c30-531aa30d0ed6",
   "metadata": {},
   "outputs": [],
   "source": [
    "GDP_Quarterly_Constant_Prices['DATAFLOW'].unique()\n"
   ]
  },
  {
   "cell_type": "code",
   "execution_count": null,
   "id": "d4ae8452-1237-492a-a61d-dc2c46575537",
   "metadata": {},
   "outputs": [],
   "source": [
    "GDP_Quarterly_Constant_Prices['REF_AREA'].unique()"
   ]
  },
  {
   "cell_type": "code",
   "execution_count": null,
   "id": "5e748534-8d78-4f76-80e8-323d0120521b",
   "metadata": {},
   "outputs": [],
   "source": [
    "# Map quarters to the first month of the respective quarter\n",
    "quarter_map = {'Q1': '01', 'Q2': '04', 'Q3': '07', 'Q4': '10'}\n",
    "\n",
    "# Replace the QUARTER with corresponding start month\n",
    "GDP_Quarterly_Constant_Prices['Month'] = GDP_Quarterly_Constant_Prices['QUARTER'].map(quarter_map)\n",
    "GDP_Quarterly_Constant_Prices['Date'] = pd.to_datetime(\n",
    "    GDP_Quarterly_Constant_Prices['TIME_PERIOD'].astype(str) + '-' + GDP_Quarterly_Constant_Prices['Month'] + '-01'\n",
    ")\n",
    "\n",
    "# Now `Date` is a valid datetime object.\n"
   ]
  },
  {
   "cell_type": "code",
   "execution_count": null,
   "id": "f487ecb6-2c17-426c-85f3-5f2c6850b56d",
   "metadata": {},
   "outputs": [],
   "source": [
    "# Ensure OBS_VALUE is numeric\n",
    "GDP_Quarterly_Constant_Prices['OBS_VALUE'] = pd.to_numeric(GDP_Quarterly_Constant_Prices['OBS_VALUE'], errors='coerce')\n",
    "\n",
    "# Calculate annual GDP by summing over quarters\n",
    "annual_gdp = GDP_Quarterly_Constant_Prices.groupby('TIME_PERIOD')['OBS_VALUE'].sum().reset_index()\n",
    "annual_gdp.rename(columns={'OBS_VALUE': 'Annual_GDP'}, inplace=True)\n",
    "\n",
    "# Calculate quarterly and annual percentage change\n",
    "GDP_Quarterly_Constant_Prices['Quarterly_Change'] = GDP_Quarterly_Constant_Prices['OBS_VALUE'].pct_change() * 100\n",
    "annual_gdp['Annual_Change'] = annual_gdp['Annual_GDP'].pct_change() * 100\n",
    "\n",
    "# Visualization: Quarterly GDP Trends\n",
    "plt.figure(figsize=(14, 6))\n",
    "sns.lineplot(data=GDP_Quarterly_Constant_Prices, x='Date', y='OBS_VALUE', marker='o', label='Quarterly GDP', color='blue')\n",
    "plt.title('Quarterly GDP Trends (Constant Prices)')\n",
    "plt.xlabel('Date')\n",
    "plt.ylabel('GDP (Million AED)')\n",
    "plt.grid(True)\n",
    "plt.tight_layout()\n",
    "plt.show()\n",
    "\n",
    "# Visualization: Annual GDP Growth\n",
    "plt.figure(figsize=(14, 6))\n",
    "sns.barplot(data=annual_gdp, x='TIME_PERIOD', y='Annual_Change', palette='viridis')\n",
    "plt.axhline(0, color='gray', linestyle='--', linewidth=1)\n",
    "plt.title('Annual GDP Growth Rate (%)')\n",
    "plt.xlabel('Year')\n",
    "plt.ylabel('Growth Rate (%)')\n",
    "plt.xticks(rotation=45)\n",
    "plt.grid(True, axis='y')\n",
    "plt.tight_layout()\n",
    "plt.show()\n"
   ]
  },
  {
   "cell_type": "code",
   "execution_count": null,
   "id": "dbad9058-8e58-4980-bc78-74ff334da3c2",
   "metadata": {},
   "outputs": [],
   "source": [
    "# Check 2024 data\n",
    "print(GDP_Quarterly_Constant_Prices[GDP_Quarterly_Constant_Prices['TIME_PERIOD'] == 2024])\n"
   ]
  },
  {
   "cell_type": "code",
   "execution_count": null,
   "id": "eb4b7cd5-619c-4e9d-a019-bff629a3e168",
   "metadata": {},
   "outputs": [],
   "source": [
    "# Check for missing quarters by year\n",
    "missing_quarters = GDP_Quarterly_Constant_Prices.groupby('TIME_PERIOD')['QUARTER'].nunique()\n",
    "print(missing_quarters)\n"
   ]
  },
  {
   "cell_type": "code",
   "execution_count": null,
   "id": "60794563-57eb-4d95-a922-07df6ae094ac",
   "metadata": {},
   "outputs": [],
   "source": [
    "# Verify the annual GDP sum\n",
    "print(GDP_Quarterly_Constant_Prices[GDP_Quarterly_Constant_Prices['TIME_PERIOD'] == 2024][['QUARTER', 'OBS_VALUE']])\n",
    "print(annual_gdp[annual_gdp['TIME_PERIOD'] == 2024])\n"
   ]
  },
  {
   "cell_type": "code",
   "execution_count": null,
   "id": "61fd6edf-c103-44be-b575-11a4c40e246b",
   "metadata": {},
   "outputs": [],
   "source": [
    "# Inspect the growth rate calculation\n",
    "print(annual_gdp[['TIME_PERIOD', 'Annual_GDP', 'Annual_Change']])\n"
   ]
  },
  {
   "cell_type": "code",
   "execution_count": null,
   "id": "e1d41038-f7e2-4598-8121-0d8c1b9f4576",
   "metadata": {},
   "outputs": [],
   "source": [
    "# Plot quarterly GDP for 2023 and 2024\n",
    "filtered_data = GDP_Quarterly_Constant_Prices[GDP_Quarterly_Constant_Prices['TIME_PERIOD'].isin([2023, 2024])]\n",
    "plt.figure(figsize=(14, 6))\n",
    "sns.lineplot(data=filtered_data, x='Date', y='OBS_VALUE', marker='o', hue='TIME_PERIOD', palette='Set2')\n",
    "plt.title('Quarterly GDP Trends for 2023 and 2024')\n",
    "plt.xlabel('Date')\n",
    "plt.ylabel('GDP (Million AED)')\n",
    "plt.grid(True)\n",
    "plt.tight_layout()\n",
    "plt.show()\n"
   ]
  },
  {
   "cell_type": "code",
   "execution_count": null,
   "id": "bf83ddee-165a-40aa-8ccb-7368829e969e",
   "metadata": {},
   "outputs": [],
   "source": []
  },
  {
   "cell_type": "code",
   "execution_count": null,
   "id": "624a7d65-96fe-4bb3-88c7-b33d3b3b220d",
   "metadata": {},
   "outputs": [],
   "source": []
  },
  {
   "cell_type": "code",
   "execution_count": null,
   "id": "9de024e9-4859-4cb0-a381-bd91555afe79",
   "metadata": {},
   "outputs": [],
   "source": [
    "#########################################################################"
   ]
  },
  {
   "cell_type": "code",
   "execution_count": null,
   "id": "81c45d04-b4bd-409c-adf0-c0656705bfbd",
   "metadata": {},
   "outputs": [],
   "source": [
    "# Load data\n",
    "GDP_Quarterly_Current_Prices = pd.read_csv('Gross Domestic Product/GDP_Quarterly_Current_Prices.csv')"
   ]
  },
  {
   "cell_type": "code",
   "execution_count": null,
   "id": "8893f522-d7d6-4c68-b901-ae0619572be7",
   "metadata": {},
   "outputs": [],
   "source": [
    "GDP_Quarterly_Current_Prices.head(10)"
   ]
  },
  {
   "cell_type": "code",
   "execution_count": null,
   "id": "65693f1d-c242-422c-80e7-76f840a53a9f",
   "metadata": {},
   "outputs": [],
   "source": [
    "# Map quarter to the first month of the quarter\n",
    "quarter_months = {\n",
    "    'Q1': '01', 'Q2': '04', 'Q3': '07', 'Q4': '10'\n",
    "}\n",
    "\n",
    "# Create a new column for Date by combining TIME_PERIOD and QUARTER\n",
    "GDP_Quarterly_Current_Prices['Date'] = GDP_Quarterly_Current_Prices['TIME_PERIOD'].astype(str) + '-' + GDP_Quarterly_Current_Prices['QUARTER'].map(quarter_months)\n",
    "\n",
    "# Convert the Date column to datetime format (set it to the 1st of the month)\n",
    "GDP_Quarterly_Current_Prices['Date'] = pd.to_datetime(GDP_Quarterly_Current_Prices['Date'], format='%Y-%m')\n",
    "\n",
    "# Ensure OBS_VALUE is numeric\n",
    "GDP_Quarterly_Current_Prices['OBS_VALUE'] = pd.to_numeric(GDP_Quarterly_Current_Prices['OBS_VALUE'], errors='coerce')\n",
    "\n",
    "# Visualize Growth Rate Trends over Time\n",
    "plt.figure(figsize=(14, 6))\n",
    "sns.lineplot(data=GDP_Quarterly_Current_Prices, x='Date', y='OBS_VALUE', marker='o', label='Quarterly GDP Growth Rate', color='green')\n",
    "plt.title('Quarterly GDP Growth Rate (Current Prices)')\n",
    "plt.xlabel('Date')\n",
    "plt.ylabel('Growth Rate (%)')\n",
    "plt.grid(True)\n",
    "plt.tight_layout()\n",
    "plt.show()\n",
    "\n",
    "# Calculate annual growth rate by summing the growth rate over each year\n",
    "GDP_Quarterly_Current_Prices['Annual_Growth'] = GDP_Quarterly_Current_Prices.groupby('TIME_PERIOD')['OBS_VALUE'].transform('sum')\n",
    "\n",
    "# Visualize Annual Growth Rate Trends\n",
    "plt.figure(figsize=(14, 6))\n",
    "sns.barplot(data=GDP_Quarterly_Current_Prices, x='TIME_PERIOD', y='Annual_Growth', palette='Blues')\n",
    "plt.axhline(0, color='gray', linestyle='--', linewidth=1)\n",
    "plt.title('Annual GDP Growth Rate (Current Prices)')\n",
    "plt.xlabel('Year')\n",
    "plt.ylabel('Growth Rate (%)')\n",
    "plt.xticks(rotation=45)\n",
    "plt.grid(True, axis='y')\n",
    "plt.tight_layout()\n",
    "plt.show()\n"
   ]
  },
  {
   "cell_type": "code",
   "execution_count": null,
   "id": "8e8134b1-51cd-44a1-ba26-ae237bf85e0a",
   "metadata": {},
   "outputs": [],
   "source": []
  },
  {
   "cell_type": "code",
   "execution_count": null,
   "id": "f08bd36f-f55e-4fbb-a473-55c3c8327caa",
   "metadata": {},
   "outputs": [],
   "source": []
  },
  {
   "cell_type": "code",
   "execution_count": null,
   "id": "19f1f960-da63-4ceb-b1a3-f313003ac3bf",
   "metadata": {},
   "outputs": [],
   "source": [
    "#########################################################################"
   ]
  },
  {
   "cell_type": "code",
   "execution_count": null,
   "id": "c0dc4f3d-7fd8-43a9-88f4-354d17a43c59",
   "metadata": {},
   "outputs": [],
   "source": [
    "# Load data\n",
    "Population_Gender = pd.read_csv('Population/Population_Estimates_and_Growth_by_Gender.csv')"
   ]
  },
  {
   "cell_type": "code",
   "execution_count": null,
   "id": "c10e0740-9ca6-44c1-9441-d47b5f987983",
   "metadata": {},
   "outputs": [],
   "source": [
    "Population_Gender.head(10)"
   ]
  },
  {
   "cell_type": "code",
   "execution_count": null,
   "id": "b3e7d9e0-74cb-426d-a66b-d18744588fa5",
   "metadata": {},
   "outputs": [],
   "source": [
    "# Male, Female, and Total Population Trend Over Time\n",
    "# Grouping by TIME_PERIOD and GENDER, summing the OBS_VALUE for male and female populations\n",
    "male_population = Population_Gender[Population_Gender['GENDER'] == 'M']\n",
    "female_population = Population_Gender[Population_Gender['GENDER'] == 'F']\n",
    "\n",
    "# Plotting Male, Female, and Total Population Trends\n",
    "plt.figure(figsize=(14, 6))\n",
    "plt.plot(male_population['TIME_PERIOD'], male_population['OBS_VALUE'], label='Male Population', color='blue')\n",
    "plt.plot(female_population['TIME_PERIOD'], female_population['OBS_VALUE'], label='Female Population', color='pink')\n",
    "plt.plot(male_population['TIME_PERIOD'], male_population['OBS_VALUE'] + female_population['OBS_VALUE'], label='Total Population', color='green', linestyle='--')\n",
    "\n",
    "plt.title('Male, Female, and Total Population Trend Over Time')\n",
    "plt.xlabel('Year')\n",
    "plt.ylabel('Population')\n",
    "plt.legend()\n",
    "plt.grid(True)\n",
    "plt.xticks(rotation=45)\n",
    "plt.tight_layout()\n",
    "plt.show()"
   ]
  },
  {
   "cell_type": "code",
   "execution_count": null,
   "id": "d4be81b7-731d-4c6f-9815-0e021fafe6fb",
   "metadata": {},
   "outputs": [],
   "source": [
    "# Gender Distribution Across Years\n",
    "# Calculating the percentage of Male and Female populations for each year\n",
    "total_population = Population_Gender.groupby('TIME_PERIOD')['OBS_VALUE'].sum()\n",
    "male_population_sum = male_population.groupby('TIME_PERIOD')['OBS_VALUE'].sum()\n",
    "female_population_sum = female_population.groupby('TIME_PERIOD')['OBS_VALUE'].sum()\n",
    "\n",
    "gender_distribution = pd.DataFrame({\n",
    "    'Male Percentage': (male_population_sum / total_population) * 100,\n",
    "    'Female Percentage': (female_population_sum / total_population) * 100\n",
    "})\n",
    "\n",
    "# Plotting Gender Distribution\n",
    "plt.figure(figsize=(14, 6))\n",
    "sns.lineplot(data=gender_distribution, x=gender_distribution.index, y='Male Percentage', label='Male Percentage', color='blue')\n",
    "sns.lineplot(data=gender_distribution, x=gender_distribution.index, y='Female Percentage', label='Female Percentage', color='pink')\n",
    "\n",
    "plt.title('Gender Distribution Across Years')\n",
    "plt.xlabel('Year')\n",
    "plt.ylabel('Percentage')\n",
    "plt.legend()\n",
    "plt.grid(True)\n",
    "plt.xticks(rotation=45)\n",
    "plt.tight_layout()\n",
    "plt.show()"
   ]
  },
  {
   "cell_type": "code",
   "execution_count": null,
   "id": "fc700d8b-bbbd-47eb-8319-93854b9c91c2",
   "metadata": {},
   "outputs": [],
   "source": [
    "# Annual Growth Rate of Population\n",
    "# Calculate annual growth rate of total population\n",
    "population_growth = total_population.pct_change() * 100\n",
    "\n",
    "# Plotting the Annual Growth Rate\n",
    "plt.figure(figsize=(14, 6))\n",
    "sns.barplot(x=population_growth.index, y=population_growth.values, palette='viridis')\n",
    "plt.axhline(0, color='gray', linestyle='--', linewidth=1)\n",
    "plt.title('Annual Growth Rate of Population')\n",
    "plt.xlabel('Year')\n",
    "plt.ylabel('Growth Rate (%)')\n",
    "plt.xticks(rotation=45)\n",
    "plt.grid(True, axis='y')\n",
    "plt.tight_layout()\n",
    "plt.show()\n"
   ]
  },
  {
   "cell_type": "code",
   "execution_count": null,
   "id": "67c0e416-faea-470f-8867-b28e6161e317",
   "metadata": {},
   "outputs": [],
   "source": []
  },
  {
   "cell_type": "code",
   "execution_count": null,
   "id": "fd90c195-2de2-43a8-af4b-a88ed4663c65",
   "metadata": {},
   "outputs": [],
   "source": []
  },
  {
   "cell_type": "code",
   "execution_count": null,
   "id": "b1b5d8cb-e517-450b-b108-f13ce41134b6",
   "metadata": {},
   "outputs": [],
   "source": []
  },
  {
   "cell_type": "code",
   "execution_count": null,
   "id": "a4d0b432-9a36-4107-ba67-a804e69cd2ce",
   "metadata": {},
   "outputs": [],
   "source": [
    "#########################################################################"
   ]
  },
  {
   "cell_type": "code",
   "execution_count": null,
   "id": "cc9a2d4d-9f73-403a-8ff1-a663272c83e3",
   "metadata": {},
   "outputs": [],
   "source": [
    "# Load data\n",
    "Population_Indicators = pd.read_csv('Population/Population_Indicators.csv')"
   ]
  },
  {
   "cell_type": "code",
   "execution_count": null,
   "id": "99dc4ec5-759d-4ac2-8308-8c9273f96063",
   "metadata": {},
   "outputs": [],
   "source": [
    "Population_Indicators.head(20)"
   ]
  },
  {
   "cell_type": "code",
   "execution_count": null,
   "id": "5b11e2b2-b10f-4866-8ee8-5c2d28cc15ef",
   "metadata": {},
   "outputs": [],
   "source": [
    "Population_Indicators.info()"
   ]
  },
  {
   "cell_type": "code",
   "execution_count": null,
   "id": "f3bf3b72-7e92-495e-a5c8-4991eafe2aad",
   "metadata": {},
   "outputs": [],
   "source": [
    "Population_Indicators.isnull().sum()  # Check for missing data\n"
   ]
  },
  {
   "cell_type": "code",
   "execution_count": null,
   "id": "cd9345f4-bd2e-4729-a9ad-3a26041ec5ee",
   "metadata": {},
   "outputs": [],
   "source": [
    "print(Population_Indicators.columns)\n"
   ]
  },
  {
   "cell_type": "code",
   "execution_count": null,
   "id": "23854e0a-1b36-40dc-84e6-e6955772efaa",
   "metadata": {},
   "outputs": [],
   "source": [
    "# Pivot the data to make each population indicator a separate column\n",
    "Population_Indicators = Population_Indicators.pivot(index='TIME_PERIOD', columns='POP_IND', values='OBS_VALUE').reset_index()\n"
   ]
  },
  {
   "cell_type": "code",
   "execution_count": null,
   "id": "744df2f3-d1d8-4570-b770-7f113c154a68",
   "metadata": {},
   "outputs": [],
   "source": [
    "print(Population_Indicators.head())\n"
   ]
  },
  {
   "cell_type": "code",
   "execution_count": null,
   "id": "0aa27709-b366-458a-b22a-6843021bb6b9",
   "metadata": {},
   "outputs": [],
   "source": [
    "print(Population_Indicators['TIME_PERIOD'].dtype)\n",
    "print(Population_Indicators['TIME_PERIOD'].unique())\n"
   ]
  },
  {
   "cell_type": "code",
   "execution_count": null,
   "id": "74ecf5c0-49fa-4744-bdf3-4720fd3321e0",
   "metadata": {},
   "outputs": [],
   "source": [
    "Population_Indicators['TIME_PERIOD'] = Population_Indicators['TIME_PERIOD'].astype(int)\n"
   ]
  },
  {
   "cell_type": "code",
   "execution_count": null,
   "id": "32207f54-f5a0-4f79-ad48-49e4e65d4026",
   "metadata": {},
   "outputs": [],
   "source": [
    "Population_Indicators['TIME_PERIOD'] = pd.to_numeric(Population_Indicators['TIME_PERIOD'], errors='coerce')\n"
   ]
  },
  {
   "cell_type": "code",
   "execution_count": null,
   "id": "b2faf88d-62b8-4dab-978a-8e3e64eaf9a1",
   "metadata": {},
   "outputs": [],
   "source": [
    "import matplotlib.pyplot as plt\n",
    "import seaborn as sns\n",
    "\n",
    "plt.figure(figsize=(14, 6))\n",
    "\n",
    "# Plot the lines\n",
    "sns.lineplot(data=Population_Indicators, x='TIME_PERIOD', y='MED', label='Median Age')\n",
    "sns.lineplot(data=Population_Indicators, x='TIME_PERIOD', y='CDR', label='Crude Death Rate')\n",
    "sns.lineplot(data=Population_Indicators, x='TIME_PERIOD', y='LEB', label='Life Expectancy (Total)')\n",
    "\n",
    "# Explicitly set x-axis ticks to the unique years\n",
    "plt.xticks(ticks=[2019, 2020], labels=['2019', '2020'], rotation=45)\n",
    "\n",
    "# Customize the plot\n",
    "plt.title('Population Indicators Over Time (2019-2020)')\n",
    "plt.xlabel('Year')\n",
    "plt.ylabel('Value')\n",
    "plt.legend()\n",
    "plt.grid(True)\n",
    "plt.tight_layout()\n",
    "plt.show()\n"
   ]
  },
  {
   "cell_type": "code",
   "execution_count": null,
   "id": "2ddebacb-49ff-4f47-8910-e3fd1cef4a7e",
   "metadata": {},
   "outputs": [],
   "source": []
  },
  {
   "cell_type": "code",
   "execution_count": null,
   "id": "6d6dfff7-aa59-44ec-ba42-8ce028d2a5a8",
   "metadata": {},
   "outputs": [],
   "source": [
    "#########################################################################"
   ]
  },
  {
   "cell_type": "code",
   "execution_count": null,
   "id": "fb075c81-4ddf-4b35-a363-21c058f9d315",
   "metadata": {},
   "outputs": [],
   "source": [
    "# Load data\n",
    "Guests_by_Hotel_Type_by_Region = pd.read_csv('Tourism/Guests_by_Hotel_Type_by_Region.csv')"
   ]
  },
  {
   "cell_type": "code",
   "execution_count": null,
   "id": "a0d2d6c2-c5a5-4015-9e5d-15fa84e06973",
   "metadata": {},
   "outputs": [],
   "source": [
    "Guests_by_Hotel_Type_by_Region.head(10)"
   ]
  },
  {
   "cell_type": "code",
   "execution_count": null,
   "id": "1de77279-ea85-4d81-8e82-f36d868aef1b",
   "metadata": {},
   "outputs": [],
   "source": [
    "Guests_by_Hotel_Type_by_Region.info()"
   ]
  },
  {
   "cell_type": "code",
   "execution_count": null,
   "id": "b2abbc50-95a5-4762-bd40-0140a5cb5fff",
   "metadata": {},
   "outputs": [],
   "source": [
    "Guests_by_Hotel_Type_by_Region['TIME_PERIOD'].unique()"
   ]
  },
  {
   "cell_type": "code",
   "execution_count": null,
   "id": "3ef079db-145a-4b7b-af90-422296caf91b",
   "metadata": {},
   "outputs": [],
   "source": [
    "# Guest Trends Over Time\n",
    "plt.figure(figsize=(14, 6))\n",
    "sns.lineplot(data=Guests_by_Hotel_Type_by_Region, x='TIME_PERIOD', y='OBS_VALUE', marker='o', label='Number of Guests', color='blue')\n",
    "plt.title('Guest Trends Over Time (1979-2022)')\n",
    "plt.xlabel('Year')\n",
    "plt.ylabel('Number of Guests')\n",
    "plt.grid(True)\n",
    "plt.tight_layout()\n",
    "plt.show()\n"
   ]
  },
  {
   "cell_type": "code",
   "execution_count": null,
   "id": "5b51a5aa-2c2f-4783-a496-9c359d138bf6",
   "metadata": {},
   "outputs": [],
   "source": [
    "# Region-based Guest Trends\n",
    "plt.figure(figsize=(14, 6))\n",
    "sns.lineplot(data=Guests_by_Hotel_Type_by_Region, x='TIME_PERIOD', y='OBS_VALUE', hue='GUEST_REGION', marker='o')\n",
    "plt.title('Guest Trends by Region Over Time')\n",
    "plt.xlabel('Year')\n",
    "plt.ylabel('Number of Guests')\n",
    "plt.grid(True)\n",
    "plt.tight_layout()\n",
    "plt.show()\n"
   ]
  },
  {
   "cell_type": "code",
   "execution_count": null,
   "id": "2d1b3994-0d23-44ce-b5f7-4be6747e89c5",
   "metadata": {},
   "outputs": [],
   "source": [
    "Guests_by_Hotel_Type_by_Region['GUEST_REGION'].unique()"
   ]
  },
  {
   "cell_type": "code",
   "execution_count": null,
   "id": "fadd630d-9804-43a3-99c1-5b627d0361f7",
   "metadata": {},
   "outputs": [],
   "source": [
    "'''\n",
    "UAE – United Arab Emirates (domestic guests)\n",
    "GCC – Gulf Cooperation Council (Saudi Arabia, Kuwait, Bahrain, Qatar, Oman, UAE)\n",
    "OC – Oceania (Australia, New Zealand, Pacific Islands)\n",
    "AF – Africa\n",
    "ASC – Asia Subcontinent (likely South Asia: India, Pakistan, Bangladesh, Sri Lanka, Nepal)\n",
    "AC – Possibly \"Asia & Caucasus\" or \"American Continent\"\n",
    "ACAF – Asia, Caucasus, and Africa (a combined classification)\n",
    "EC – Possibly \"Europe & CIS\" (Commonwealth of Independent States, including Russia, Ukraine, etc.)\n",
    "AM – Americas (North & South America)\n",
    "OTH – Others (regions that don’t fit into the predefined categories)\n",
    "'''"
   ]
  },
  {
   "cell_type": "code",
   "execution_count": null,
   "id": "b69f0421-e948-4d98-8d68-22a719480e87",
   "metadata": {},
   "outputs": [],
   "source": [
    "# Yearly Change in Guests\n",
    "Guests_by_Hotel_Type_by_Region['Yearly_Change'] = Guests_by_Hotel_Type_by_Region['OBS_VALUE'].pct_change() * 100\n",
    "\n",
    "plt.figure(figsize=(14, 6))\n",
    "sns.barplot(data=Guests_by_Hotel_Type_by_Region, x='TIME_PERIOD', y='Yearly_Change', palette='viridis')\n",
    "plt.axhline(0, color='gray', linestyle='--', linewidth=1)\n",
    "plt.title('Yearly Change in Number of Guests (%)')\n",
    "plt.xlabel('Year')\n",
    "plt.ylabel('Change in Guests (%)')\n",
    "plt.xticks(rotation=90)\n",
    "plt.grid(True, axis='y')\n",
    "plt.tight_layout()\n",
    "plt.show()\n"
   ]
  },
  {
   "cell_type": "code",
   "execution_count": null,
   "id": "d3571ee3-acae-4118-b4da-802f0821d038",
   "metadata": {},
   "outputs": [],
   "source": []
  },
  {
   "cell_type": "code",
   "execution_count": null,
   "id": "f7e222a7-cb9d-49e6-b243-6a3fb8f11e91",
   "metadata": {},
   "outputs": [],
   "source": []
  },
  {
   "cell_type": "code",
   "execution_count": null,
   "id": "7278ef57-9191-4a28-926b-80914d3215ed",
   "metadata": {},
   "outputs": [],
   "source": [
    "#########################################################################"
   ]
  },
  {
   "cell_type": "code",
   "execution_count": null,
   "id": "fc3b10ad-a242-485b-9b4c-527b9f813ba4",
   "metadata": {},
   "outputs": [],
   "source": [
    "# Load data\n",
    "Hotel_Establishments_and_Rooms_by_Rating_Type = pd.read_csv('Tourism/Hotel_Establishments_and_Rooms_by_Rating_Type.csv')"
   ]
  },
  {
   "cell_type": "code",
   "execution_count": null,
   "id": "dd8ea756-d73f-48f9-b91d-249932453ca1",
   "metadata": {},
   "outputs": [],
   "source": [
    "Hotel_Establishments_and_Rooms_by_Rating_Type.head(20)"
   ]
  },
  {
   "cell_type": "code",
   "execution_count": null,
   "id": "db37777b-262a-48e2-9e88-be8cad0d4449",
   "metadata": {},
   "outputs": [],
   "source": [
    "Hotel_Establishments_and_Rooms_by_Rating_Type['H_INDICATOR'].unique()"
   ]
  },
  {
   "cell_type": "code",
   "execution_count": null,
   "id": "90ec36e2-80ac-4054-9e5d-8b6ec0667296",
   "metadata": {},
   "outputs": [],
   "source": [
    "Hotel_Establishments_and_Rooms_by_Rating_Type['GUEST_REGION'].unique()"
   ]
  },
  {
   "cell_type": "code",
   "execution_count": null,
   "id": "2c5e06d3-8aba-47ff-9fa2-28889984f1e4",
   "metadata": {},
   "outputs": [],
   "source": [
    "Hotel_Establishments_and_Rooms_by_Rating_Type.info()"
   ]
  },
  {
   "cell_type": "code",
   "execution_count": null,
   "id": "ac80640d-fb04-47ab-8aa0-6adfa342f269",
   "metadata": {},
   "outputs": [],
   "source": [
    "Hotel_Establishments_and_Rooms_by_Rating_Type['TIME_PERIOD'].unique()"
   ]
  },
  {
   "cell_type": "code",
   "execution_count": null,
   "id": "aaaadf63-7515-4ac0-ba9d-f42ee8774c09",
   "metadata": {},
   "outputs": [],
   "source": [
    "# Hotel Establishments Over Time\n",
    "plt.figure(figsize=(14, 6))\n",
    "sns.lineplot(data=Hotel_Establishments_and_Rooms_by_Rating_Type[Hotel_Establishments_and_Rooms_by_Rating_Type['H_INDICATOR'] == 'EST'],\n",
    "             x='TIME_PERIOD', y='OBS_VALUE', marker='o', color='blue')\n",
    "plt.title('Hotel Establishments Over Time (1975-2022)')\n",
    "plt.xlabel('Year')\n",
    "plt.ylabel('Number of Hotel Establishments')\n",
    "plt.grid(True)\n",
    "plt.tight_layout()\n",
    "plt.show()\n"
   ]
  },
  {
   "cell_type": "code",
   "execution_count": null,
   "id": "8a06c20f-c3ad-45fe-ac01-eb8adb05e846",
   "metadata": {},
   "outputs": [],
   "source": [
    "# Rooms Over Time by Rating Type\n",
    "plt.figure(figsize=(14, 6))\n",
    "sns.lineplot(data=Hotel_Establishments_and_Rooms_by_Rating_Type[Hotel_Establishments_and_Rooms_by_Rating_Type['H_INDICATOR'] == 'ROOM'],\n",
    "             x='TIME_PERIOD', y='OBS_VALUE', marker='o', color='green')\n",
    "plt.title('Rooms Over Time (1975-2022)')\n",
    "plt.xlabel('Year')\n",
    "plt.ylabel('Number of Rooms')\n",
    "plt.grid(True)\n",
    "plt.tight_layout()\n",
    "plt.show()\n"
   ]
  },
  {
   "cell_type": "code",
   "execution_count": null,
   "id": "d658b879-d3ab-4dfb-87ed-164d0859765e",
   "metadata": {},
   "outputs": [],
   "source": [
    "# Calculate annual change for Hotel Establishments and Rooms\n",
    "Hotel_Establishments_and_Rooms_by_Rating_Type['Annual_Change'] = Hotel_Establishments_and_Rooms_by_Rating_Type['OBS_VALUE'].pct_change() * 100\n",
    "\n",
    "plt.figure(figsize=(14, 6))\n",
    "sns.lineplot(data=Hotel_Establishments_and_Rooms_by_Rating_Type[Hotel_Establishments_and_Rooms_by_Rating_Type['H_INDICATOR'] == 'EST'],\n",
    "             x='TIME_PERIOD', y='Annual_Change', marker='o', label='Hotel Establishments')\n",
    "sns.lineplot(data=Hotel_Establishments_and_Rooms_by_Rating_Type[Hotel_Establishments_and_Rooms_by_Rating_Type['H_INDICATOR'] == 'ROOM'],\n",
    "             x='TIME_PERIOD', y='Annual_Change', marker='o', label='Rooms')\n",
    "plt.title('Annual Change in Hotel Establishments and Rooms')\n",
    "plt.xlabel('Year')\n",
    "plt.ylabel('Annual Change (%)')\n",
    "plt.legend()\n",
    "plt.grid(True)\n",
    "plt.tight_layout()\n",
    "plt.show()\n"
   ]
  },
  {
   "cell_type": "code",
   "execution_count": null,
   "id": "fdcbda9b-41ea-47b4-9029-a311b298d585",
   "metadata": {},
   "outputs": [],
   "source": []
  },
  {
   "cell_type": "code",
   "execution_count": null,
   "id": "a051cff6-972e-4956-9597-54337967a40e",
   "metadata": {},
   "outputs": [],
   "source": []
  },
  {
   "cell_type": "code",
   "execution_count": null,
   "id": "0ba8dd2a-6eef-495c-9090-09637d86c652",
   "metadata": {},
   "outputs": [],
   "source": []
  },
  {
   "cell_type": "code",
   "execution_count": null,
   "id": "ef32dd5d-6f63-490e-a042-b006b63eaa10",
   "metadata": {},
   "outputs": [],
   "source": [
    "#########################################################################"
   ]
  },
  {
   "cell_type": "code",
   "execution_count": null,
   "id": "ecc4bffe-b839-488b-8d76-5ab771e9aede",
   "metadata": {},
   "outputs": [],
   "source": [
    "# Load data\n",
    "Hotel_Establishments_Main_Indicators = pd.read_csv('Tourism/Hotel_Establishments_Main_Indicators.csv')"
   ]
  },
  {
   "cell_type": "code",
   "execution_count": null,
   "id": "f07aee92-ba8b-4a97-818a-b5f3aaa17e4d",
   "metadata": {},
   "outputs": [],
   "source": [
    "Hotel_Establishments_Main_Indicators.head(10)"
   ]
  },
  {
   "cell_type": "code",
   "execution_count": null,
   "id": "9bafee2a-58e0-4fb0-be8c-957c401efdbc",
   "metadata": {},
   "outputs": [],
   "source": [
    "Hotel_Establishments_Main_Indicators['H_INDICATOR'].unique()"
   ]
  },
  {
   "cell_type": "code",
   "execution_count": null,
   "id": "2b0dc993-efcd-4bed-a431-453eaf2fd315",
   "metadata": {},
   "outputs": [],
   "source": [
    "'''\n",
    "RR - Total Revenue (likely the most important indicator)\n",
    "TOR - Total Occupancy Rate (percentage of rooms occupied)\n",
    "GUN - Gross Utilization Number (likely measures the occupancy or usage rate of hotel resources)\n",
    "LS - Length of Stay (average duration of stay for guests)\n",
    "FB - Food & Beverage Revenue (likely indicates revenue from dining services)\n",
    "AR - Average Room Rate (the average price of a room per night)\n",
    "OR - Occupancy Rate (similar to TOR, but could be more specific in context)\n",
    "TR - Total Rooms (total number of rooms in the establishment)\n",
    "TAR - Total Available Rooms (could indicate the number of rooms available for booking)\n",
    "ARR - Average Room Revenue (average revenue per room)\n",
    "'''"
   ]
  },
  {
   "cell_type": "code",
   "execution_count": null,
   "id": "07e103e9-7c8d-4e5e-9209-8c34e9865406",
   "metadata": {},
   "outputs": [],
   "source": [
    "Hotel_Establishments_Main_Indicators['TIME_PERIOD'].unique()"
   ]
  },
  {
   "cell_type": "code",
   "execution_count": null,
   "id": "25aa78c2-1e12-4653-8269-f1efde5fdfac",
   "metadata": {},
   "outputs": [],
   "source": [
    "# Revenue per Room (RR) Over Time\n",
    "plt.figure(figsize=(14, 6))\n",
    "sns.lineplot(data=Hotel_Establishments_Main_Indicators[Hotel_Establishments_Main_Indicators['H_INDICATOR'] == 'RR'],\n",
    "             x='TIME_PERIOD', y='OBS_VALUE', marker='o', color='purple')\n",
    "plt.title('Revenue Per Room (RR) Over Time (1985-2022)')\n",
    "plt.xlabel('Year')\n",
    "plt.ylabel('Revenue Per Room (AED)')\n",
    "plt.grid(True)\n",
    "plt.tight_layout()\n",
    "plt.show()\n"
   ]
  },
  {
   "cell_type": "code",
   "execution_count": null,
   "id": "f26f9024-d667-4fa6-a15f-697ce02eaebe",
   "metadata": {},
   "outputs": [],
   "source": [
    "# Calculate annual change in Revenue Per Room\n",
    "Hotel_Establishments_Main_Indicators['Annual_Change_RR'] = Hotel_Establishments_Main_Indicators['OBS_VALUE'].pct_change() * 100\n",
    "\n",
    "plt.figure(figsize=(14, 6))\n",
    "sns.lineplot(data=Hotel_Establishments_Main_Indicators[Hotel_Establishments_Main_Indicators['H_INDICATOR'] == 'RR'],\n",
    "             x='TIME_PERIOD', y='Annual_Change_RR', marker='o', color='orange')\n",
    "plt.title('Annual Change in Revenue Per Room (1985-2022)')\n",
    "plt.xlabel('Year')\n",
    "plt.ylabel('Annual Change (%)')\n",
    "plt.grid(True)\n",
    "plt.tight_layout()\n",
    "plt.show()\n"
   ]
  },
  {
   "cell_type": "code",
   "execution_count": null,
   "id": "1881b993-1809-4116-ae0a-0169bde9614b",
   "metadata": {},
   "outputs": [],
   "source": [
    "# Plot Total Revenue vs Occupancy Rate (TOR or OR)\n",
    "plt.figure(figsize=(14, 6))\n",
    "sns.lineplot(data=Hotel_Establishments_Main_Indicators[Hotel_Establishments_Main_Indicators['H_INDICATOR'].isin(['RR', 'TOR', 'OR'])],\n",
    "             x='TIME_PERIOD', y='OBS_VALUE', hue='H_INDICATOR', markers=True)\n",
    "plt.title('Total Revenue and Occupancy Rate Over Time (1985-2022)')\n",
    "plt.xlabel('Year')\n",
    "plt.ylabel('Value')\n",
    "plt.legend(title='Indicator')\n",
    "plt.grid(True)\n",
    "plt.tight_layout()\n",
    "plt.show()\n"
   ]
  },
  {
   "cell_type": "code",
   "execution_count": null,
   "id": "f9b83355-ce96-4706-adc4-353b76cd8d8b",
   "metadata": {},
   "outputs": [],
   "source": [
    "# Compare AR and ARR\n",
    "plt.figure(figsize=(14, 6))\n",
    "sns.lineplot(data=Hotel_Establishments_Main_Indicators[Hotel_Establishments_Main_Indicators['H_INDICATOR'].isin(['AR', 'ARR'])],\n",
    "             x='TIME_PERIOD', y='OBS_VALUE', hue='H_INDICATOR', markers=True)\n",
    "plt.title('Average Room Rate vs Average Room Revenue (2015-2022)')\n",
    "plt.xlabel('Year')\n",
    "plt.ylabel('Value')\n",
    "plt.legend(title='Indicator')\n",
    "plt.grid(True)\n",
    "plt.tight_layout()\n",
    "plt.show()\n"
   ]
  },
  {
   "cell_type": "code",
   "execution_count": null,
   "id": "36e2094f-d67f-41b8-9278-b294400cd7bb",
   "metadata": {},
   "outputs": [],
   "source": [
    "# Plot Length of Stay vs Occupancy Rate\n",
    "plt.figure(figsize=(14, 6))\n",
    "sns.lineplot(data=Hotel_Establishments_Main_Indicators[Hotel_Establishments_Main_Indicators['H_INDICATOR'].isin(['LS', 'TOR', 'OR'])],\n",
    "             x='TIME_PERIOD', y='OBS_VALUE', hue='H_INDICATOR', markers=True)\n",
    "plt.title('Length of Stay vs Occupancy Rate (1985-2022)')\n",
    "plt.xlabel('Year')\n",
    "plt.ylabel('Value')\n",
    "plt.legend(title='Indicator')\n",
    "plt.grid(True)\n",
    "plt.tight_layout()\n",
    "plt.show()\n"
   ]
  },
  {
   "cell_type": "code",
   "execution_count": null,
   "id": "63de8194-a850-4bea-af81-e0fb336262fd",
   "metadata": {},
   "outputs": [],
   "source": [
    "# Compare ARR and TOR (Occupancy Rate)\n",
    "plt.figure(figsize=(14, 6))\n",
    "sns.lineplot(data=Hotel_Establishments_Main_Indicators[Hotel_Establishments_Main_Indicators['H_INDICATOR'].isin(['ARR', 'TOR'])],\n",
    "             x='TIME_PERIOD', y='OBS_VALUE', hue='H_INDICATOR', markers=True)\n",
    "plt.title('Revenue Per Room vs Occupancy Rate (2015-2022)')\n",
    "plt.xlabel('Year')\n",
    "plt.ylabel('Value')\n",
    "plt.legend(title='Indicator')\n",
    "plt.grid(True)\n",
    "plt.tight_layout()\n",
    "plt.show()\n"
   ]
  },
  {
   "cell_type": "code",
   "execution_count": null,
   "id": "f714f1a0-51aa-45a9-92c3-b1638bd15692",
   "metadata": {},
   "outputs": [],
   "source": [
    "# Compare Total Revenue and Food & Beverage Revenue\n",
    "plt.figure(figsize=(14, 6))\n",
    "sns.lineplot(data=Hotel_Establishments_Main_Indicators[Hotel_Establishments_Main_Indicators['H_INDICATOR'].isin(['RR', 'FB'])],\n",
    "             x='TIME_PERIOD', y='OBS_VALUE', hue='H_INDICATOR', markers=True)\n",
    "plt.title('Total Revenue vs Food & Beverage Revenue (1985-2022)')\n",
    "plt.xlabel('Year')\n",
    "plt.ylabel('Revenue (AED)')\n",
    "plt.legend(title='Indicator')\n",
    "plt.grid(True)\n",
    "plt.tight_layout()\n",
    "plt.show()\n"
   ]
  },
  {
   "cell_type": "code",
   "execution_count": null,
   "id": "1395a522-4b9b-423b-813d-117978e214a2",
   "metadata": {},
   "outputs": [],
   "source": [
    "# Compare Length of Stay and Total Revenue\n",
    "plt.figure(figsize=(14, 6))\n",
    "sns.lineplot(data=Hotel_Establishments_Main_Indicators[Hotel_Establishments_Main_Indicators['H_INDICATOR'].isin(['LS', 'RR'])],\n",
    "             x='TIME_PERIOD', y='OBS_VALUE', hue='H_INDICATOR', markers=True)\n",
    "plt.title('Length of Stay vs Total Revenue (1985-2022)')\n",
    "plt.xlabel('Year')\n",
    "plt.ylabel('Value')\n",
    "plt.legend(title='Indicator')\n",
    "plt.grid(True)\n",
    "plt.tight_layout()\n",
    "plt.show()\n"
   ]
  },
  {
   "cell_type": "code",
   "execution_count": null,
   "id": "52e19bf8-1ae6-456b-9b02-ba90c7d90a3b",
   "metadata": {},
   "outputs": [],
   "source": [
    "# Year-on-Year Comparison of Revenue Per Room\n",
    "Hotel_Establishments_Main_Indicators['Previous_RR'] = Hotel_Establishments_Main_Indicators['OBS_VALUE'].shift(1)\n",
    "Hotel_Establishments_Main_Indicators['YoY_RR_Comparison'] = Hotel_Establishments_Main_Indicators['OBS_VALUE'] - Hotel_Establishments_Main_Indicators['Previous_RR']\n",
    "\n",
    "plt.figure(figsize=(14, 6))\n",
    "sns.barplot(data=Hotel_Establishments_Main_Indicators[Hotel_Establishments_Main_Indicators['H_INDICATOR'] == 'RR'],\n",
    "            x='TIME_PERIOD', y='YoY_RR_Comparison', color='green')\n",
    "plt.title('Year-on-Year Revenue Per Room Comparison (1985-2022)')\n",
    "plt.xlabel('Year')\n",
    "plt.ylabel('Difference in Revenue Per Room (AED)')\n",
    "plt.grid(True)\n",
    "plt.tight_layout()\n",
    "plt.show()\n"
   ]
  },
  {
   "cell_type": "code",
   "execution_count": null,
   "id": "a1e80487-d6cb-4ebb-b026-07aef44859eb",
   "metadata": {},
   "outputs": [],
   "source": [
    "# Distribution of Revenue Per Room\n",
    "plt.figure(figsize=(14, 6))\n",
    "sns.boxplot(data=Hotel_Establishments_Main_Indicators[Hotel_Establishments_Main_Indicators['H_INDICATOR'] == 'RR'],\n",
    "            x='TIME_PERIOD', y='OBS_VALUE', palette='Set2')\n",
    "plt.title('Distribution of Revenue Per Room (1985-2022)')\n",
    "plt.xlabel('Year')\n",
    "plt.ylabel('Revenue Per Room (AED)')\n",
    "plt.grid(True)\n",
    "plt.tight_layout()\n",
    "plt.show()\n"
   ]
  },
  {
   "cell_type": "code",
   "execution_count": null,
   "id": "ecfba0e9-a8f4-412e-84c4-1086966f6dc5",
   "metadata": {},
   "outputs": [],
   "source": [
    "# Create a correlation heatmap\n",
    "selected_indicators = Hotel_Establishments_Main_Indicators[Hotel_Establishments_Main_Indicators['H_INDICATOR'].isin(['RR', 'AR', 'FB', 'TOR', 'LS'])]\n",
    "pivot_table = selected_indicators.pivot_table(values='OBS_VALUE', index='TIME_PERIOD', columns='H_INDICATOR')\n",
    "corr_matrix = pivot_table.corr()\n",
    "\n",
    "plt.figure(figsize=(10, 8))\n",
    "sns.heatmap(corr_matrix, annot=True, cmap='coolwarm', fmt='.2f', linewidths=0.5)\n",
    "plt.title('Correlation Heatmap Between Hotel Indicators')\n",
    "plt.tight_layout()\n",
    "plt.show()\n"
   ]
  },
  {
   "cell_type": "code",
   "execution_count": null,
   "id": "36ed4b9a-6f4e-495e-abc2-21043a717a36",
   "metadata": {},
   "outputs": [],
   "source": []
  },
  {
   "cell_type": "code",
   "execution_count": null,
   "id": "4813e10e-595c-4143-9e8e-b6e42338fdd9",
   "metadata": {},
   "outputs": [],
   "source": []
  },
  {
   "cell_type": "code",
   "execution_count": null,
   "id": "9265e0fd-5433-43af-9032-d44355fe59eb",
   "metadata": {},
   "outputs": [],
   "source": [
    "#########################################################################"
   ]
  },
  {
   "cell_type": "code",
   "execution_count": null,
   "id": "78e9267b-61c2-4992-bc77-cb0c5461de3a",
   "metadata": {},
   "outputs": [],
   "source": [
    "# Load data\n",
    "Metadata_World_Development_Indicator = pd.read_csv('World Development Indicators/Metadata_World_Development_Indicator.csv')"
   ]
  },
  {
   "cell_type": "code",
   "execution_count": null,
   "id": "db3ccd72-921d-43c3-b739-a7dab570b3a0",
   "metadata": {},
   "outputs": [],
   "source": [
    "Metadata_World_Development_Indicator.head(10)"
   ]
  },
  {
   "cell_type": "code",
   "execution_count": null,
   "id": "5fe09be9-1949-4468-9dc1-f4037cf6abc6",
   "metadata": {},
   "outputs": [],
   "source": [
    "Metadata_World_Development_Indicator.info()"
   ]
  },
  {
   "cell_type": "code",
   "execution_count": null,
   "id": "528cd7b6-2c1a-4e0c-8c79-c247091ca061",
   "metadata": {},
   "outputs": [],
   "source": [
    "Metadata_World_Development_Indicator['INDICATOR_NAME'].unique()"
   ]
  },
  {
   "cell_type": "code",
   "execution_count": null,
   "id": "a6f5c875-eec3-4a68-98f3-a322359b1086",
   "metadata": {},
   "outputs": [],
   "source": [
    "Metadata_World_Development_Indicator['SOURCE_NOTE'].unique()"
   ]
  },
  {
   "cell_type": "code",
   "execution_count": null,
   "id": "7a22d6dc-bdc2-4770-81f1-1957883de1c8",
   "metadata": {},
   "outputs": [],
   "source": [
    "Metadata_World_Development_Indicator['SOURCE_ORGANIZATION'].unique()"
   ]
  },
  {
   "cell_type": "code",
   "execution_count": null,
   "id": "634d809a-326b-4ff0-8a10-070c60df4915",
   "metadata": {},
   "outputs": [],
   "source": [
    "# Checking the column names to verify 'TIME_PERIOD'\n",
    "print(Metadata_World_Development_Indicator.columns)\n"
   ]
  },
  {
   "cell_type": "code",
   "execution_count": null,
   "id": "321c876e-80d7-4f86-a9c5-845abf8dfb87",
   "metadata": {},
   "outputs": [],
   "source": []
  },
  {
   "cell_type": "code",
   "execution_count": null,
   "id": "8cbfbb29-6e23-474d-b158-b10c473e2793",
   "metadata": {},
   "outputs": [],
   "source": [
    "#########################################################################"
   ]
  },
  {
   "cell_type": "code",
   "execution_count": null,
   "id": "fbd64a5b-30ff-4c6e-9b47-e5065a9102ea",
   "metadata": {},
   "outputs": [],
   "source": [
    "# Load data\n",
    "World_Development_Indicator = pd.read_csv('World Development Indicators/World_Development_Indicator.csv',\n",
    "                                          skiprows=4,            # Skip the first 4 rows\n",
    "                                          delimiter=\",\",         # Specify the delimiter\n",
    "                                          quotechar='\"',         # Handle quoted fields\n",
    "                                          engine=\"python\"        # Use Python engine for flexibility\n",
    "                                         )"
   ]
  },
  {
   "cell_type": "code",
   "execution_count": null,
   "id": "fcaa3d85-5fa7-4425-9caf-12839ace4a0c",
   "metadata": {},
   "outputs": [],
   "source": [
    "World_Development_Indicator.head()"
   ]
  },
  {
   "cell_type": "code",
   "execution_count": null,
   "id": "0db752ad-11de-46ea-bd4f-e5cf78dc662d",
   "metadata": {},
   "outputs": [],
   "source": [
    "World_Development_Indicator.info()"
   ]
  },
  {
   "cell_type": "code",
   "execution_count": null,
   "id": "09d116dd-2d68-4cbf-8c9f-90e6668a5dea",
   "metadata": {},
   "outputs": [],
   "source": [
    "World_Development_Indicator[\"Country Name\"].unique()"
   ]
  },
  {
   "cell_type": "code",
   "execution_count": null,
   "id": "07546260-79c8-434e-bb9f-8b8a4b4dfa83",
   "metadata": {},
   "outputs": [],
   "source": [
    "World_Development_Indicator[\"Country Code\"].unique()"
   ]
  },
  {
   "cell_type": "code",
   "execution_count": null,
   "id": "695af5fd-b9be-49e3-a1c3-9b1c62b03305",
   "metadata": {},
   "outputs": [],
   "source": [
    "World_Development_Indicator[\"Indicator Name\"].unique()"
   ]
  },
  {
   "cell_type": "code",
   "execution_count": null,
   "id": "034d38fe-262e-4d65-8603-9fbd62e151b3",
   "metadata": {},
   "outputs": [],
   "source": [
    "World_Development_Indicator[\"Indicator Code\"].unique()"
   ]
  },
  {
   "cell_type": "code",
   "execution_count": null,
   "id": "76e63591-0749-4c8a-bc6a-d2414eccb071",
   "metadata": {},
   "outputs": [],
   "source": [
    "import matplotlib.pyplot as plt\n",
    "\n",
    "# Filter the data for the specific country (e.g., United Arab Emirates)\n",
    "uae_data = World_Development_Indicator[World_Development_Indicator['Country Name'] == 'United Arab Emirates']\n",
    "\n",
    "# Select the columns from 1960 to 2023 for plotting\n",
    "uae_data_years = uae_data.loc[:, '1960':'2023']\n",
    "\n",
    "# Iterate through indicators and plot trends\n",
    "for indicator_name, indicator_values in zip(uae_data['Indicator Name'], uae_data_years.values):\n",
    "    # Drop missing years and their values\n",
    "    valid_years = uae_data_years.columns[~pd.isna(indicator_values)]\n",
    "    valid_values = indicator_values[~pd.isna(indicator_values)]\n",
    "    \n",
    "    # Skip if no valid data\n",
    "    if len(valid_values) == 0:\n",
    "        continue\n",
    "\n",
    "    # Plot the data\n",
    "    plt.figure(figsize=(14, 6))\n",
    "    plt.plot(valid_years, valid_values, marker='o', label=indicator_name)\n",
    "    plt.title(f'Trend of {indicator_name} for United Arab Emirates (1960-2023)', fontsize=14)\n",
    "    plt.xlabel('Year', fontsize=12)\n",
    "    plt.ylabel('Value', fontsize=12)\n",
    "    plt.xticks(rotation=90, fontsize=10)\n",
    "    plt.yticks(fontsize=10)\n",
    "    plt.grid(True, linestyle='--', alpha=0.7)\n",
    "    plt.tight_layout()\n",
    "    plt.legend(loc='upper left', fontsize=10)\n",
    "    plt.show()\n"
   ]
  },
  {
   "cell_type": "code",
   "execution_count": null,
   "id": "27cab1be-1b47-457d-98c6-4aad6389dec4",
   "metadata": {},
   "outputs": [],
   "source": [
    "# Get unique Indicator Names\n",
    "indicator_names = World_Development_Indicator['Indicator Name'].unique()\n",
    "\n",
    "# Display all unique indicator names\n",
    "for i, name in enumerate(indicator_names, 1):\n",
    "    print(f\"{i}. {name}\")\n"
   ]
  },
  {
   "cell_type": "code",
   "execution_count": null,
   "id": "34ae6074-12ea-4f95-b86a-640b9e311a2e",
   "metadata": {},
   "outputs": [],
   "source": [
    "# Define keywords for filtering indicators\n",
    "keywords = ['employment', 'GDP', 'education', 'migration', 'health', 'unemployment']\n",
    "\n",
    "# Suggest indicators matching the keywords\n",
    "suggested_indicators = World_Development_Indicator[\n",
    "    World_Development_Indicator['Indicator Name']\n",
    "    .str.contains('|'.join(keywords), case=False, na=False)\n",
    "]['Indicator Name'].unique()\n",
    "\n",
    "# Display the suggested indicators\n",
    "for i, name in enumerate(suggested_indicators, 1):\n",
    "    print(f\"{i}. {name}\")\n"
   ]
  },
  {
   "cell_type": "code",
   "execution_count": null,
   "id": "5c9f4ac8-51c8-4e0c-a0aa-6227ef967a28",
   "metadata": {},
   "outputs": [],
   "source": [
    "themes = {\n",
    "    \"Economy\": ['GDP', 'income', 'inflation', 'trade'],\n",
    "    \"Employment\": ['employment', 'labor', 'unemployment', 'wage'],\n",
    "    \"Education\": ['literacy', 'school', 'enrollment', 'education'],\n",
    "    \"Health\": ['life expectancy', 'mortality', 'birth', 'death'],\n",
    "    \"Migration\": ['population', 'migrant', 'migration', 'urban']\n",
    "}\n",
    "\n",
    "for theme, keywords in themes.items():\n",
    "    print(f\"\\n--- {theme} Indicators ---\")\n",
    "    suggested_indicators = World_Development_Indicator[\n",
    "        World_Development_Indicator['Indicator Name']\n",
    "        .str.contains('|'.join(keywords), case=False, na=False)\n",
    "    ]['Indicator Name'].unique()\n",
    "    \n",
    "    for i, name in enumerate(suggested_indicators, 1):\n",
    "        print(f\"{i}. {name}\")\n"
   ]
  },
  {
   "cell_type": "code",
   "execution_count": null,
   "id": "e0fc42ab-dacb-4a23-807e-d53c3ab3c50a",
   "metadata": {},
   "outputs": [],
   "source": [
    "# Count non-missing values for each indicator\n",
    "uae_data = World_Development_Indicator[\n",
    "    World_Development_Indicator['Country Name'] == 'United Arab Emirates'\n",
    "]\n",
    "uae_data['NonMissingCount'] = uae_data.loc[:, '1960':'2023'].notna().sum(axis=1)\n",
    "\n",
    "# Sort indicators by data availability\n",
    "top_indicators = uae_data.sort_values('NonMissingCount', ascending=False)\n",
    "\n",
    "# Display the top 20 indicators\n",
    "print(top_indicators[['Indicator Name', 'NonMissingCount']].head(20))\n"
   ]
  },
  {
   "cell_type": "code",
   "execution_count": null,
   "id": "81fbea0a-ae71-4fc2-9e4f-f6926edbcd4d",
   "metadata": {},
   "outputs": [],
   "source": []
  }
 ],
 "metadata": {
  "kernelspec": {
   "display_name": "Python 3 (ipykernel)",
   "language": "python",
   "name": "python3"
  },
  "language_info": {
   "codemirror_mode": {
    "name": "ipython",
    "version": 3
   },
   "file_extension": ".py",
   "mimetype": "text/x-python",
   "name": "python",
   "nbconvert_exporter": "python",
   "pygments_lexer": "ipython3",
   "version": "3.12.4"
  }
 },
 "nbformat": 4,
 "nbformat_minor": 5
}
